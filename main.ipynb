{
 "cells": [
  {
   "cell_type": "code",
   "execution_count": 1,
   "metadata": {},
   "outputs": [
    {
     "name": "stdout",
     "output_type": "stream",
     "text": [
      "Using cuda device\n",
      "Using cuda device\n",
      "Using cuda device\n",
      "Epoch 1/15, Loss: 0.3976, Train Accuracy: 62.24%, Test Accuracy: 59.58%\n",
      "Epoch 2/15, Loss: 0.0968, Train Accuracy: 66.95%, Test Accuracy: 62.25%\n",
      "Epoch 3/15, Loss: 0.0579, Train Accuracy: 87.41%, Test Accuracy: 72.02%\n",
      "Epoch 4/15, Loss: 0.0383, Train Accuracy: 87.11%, Test Accuracy: 72.33%\n",
      "Epoch 5/15, Loss: 0.0382, Train Accuracy: 90.26%, Test Accuracy: 73.53%\n",
      "Epoch 6/15, Loss: 0.0302, Train Accuracy: 97.80%, Test Accuracy: 74.06%\n",
      "Epoch 7/15, Loss: 0.0263, Train Accuracy: 61.09%, Test Accuracy: 58.79%\n",
      "Epoch 8/15, Loss: 0.0300, Train Accuracy: 89.60%, Test Accuracy: 68.39%\n",
      "Epoch 9/15, Loss: 0.0164, Train Accuracy: 97.53%, Test Accuracy: 75.52%\n",
      "Epoch 10/15, Loss: 0.0196, Train Accuracy: 99.05%, Test Accuracy: 76.81%\n",
      "Epoch 11/15, Loss: 0.0009, Train Accuracy: 100.00%, Test Accuracy: 78.76%\n",
      "Epoch 12/15, Loss: 0.0003, Train Accuracy: 100.00%, Test Accuracy: 78.69%\n",
      "Epoch 13/15, Loss: 0.0002, Train Accuracy: 100.00%, Test Accuracy: 78.67%\n",
      "Epoch 14/15, Loss: 0.0002, Train Accuracy: 100.00%, Test Accuracy: 78.57%\n",
      "Epoch 15/15, Loss: 0.0001, Train Accuracy: 100.00%, Test Accuracy: 78.69%\n"
     ]
    },
    {
     "name": "stderr",
     "output_type": "stream",
     "text": [
      "c:\\Users\\chris\\anaconda3\\Lib\\site-packages\\torch\\optim\\lr_scheduler.py:28: UserWarning: The verbose parameter is deprecated. Please use get_last_lr() to access the learning rate.\n",
      "  warnings.warn(\"The verbose parameter is deprecated. Please use get_last_lr() \"\n"
     ]
    },
    {
     "name": "stdout",
     "output_type": "stream",
     "text": [
      "Epoch 1/25, Loss: 1.0001, Train Acc: 40.83%, Test Acc: 39.83%\n",
      "Epoch 2/25, Loss: 0.9716, Train Acc: 58.28%, Test Acc: 52.79%\n",
      "Epoch 3/25, Loss: 0.8665, Train Acc: 59.38%, Test Acc: 53.48%\n",
      "Epoch 4/25, Loss: 0.7948, Train Acc: 70.54%, Test Acc: 57.16%\n",
      "Epoch 5/25, Loss: 0.6517, Train Acc: 77.73%, Test Acc: 61.27%\n",
      "Epoch 6/25, Loss: 0.4979, Train Acc: 86.04%, Test Acc: 63.60%\n",
      "Epoch 7/25, Loss: 0.3825, Train Acc: 92.70%, Test Acc: 64.48%\n",
      "Epoch 8/25, Loss: 0.2089, Train Acc: 96.65%, Test Acc: 65.20%\n",
      "Epoch 9/25, Loss: 0.2018, Train Acc: 96.04%, Test Acc: 64.42%\n",
      "Epoch 10/25, Loss: 0.1100, Train Acc: 98.64%, Test Acc: 65.76%\n",
      "Epoch 11/25, Loss: 0.0935, Train Acc: 99.24%, Test Acc: 66.14%\n",
      "Epoch 12/25, Loss: 0.0739, Train Acc: 99.13%, Test Acc: 64.94%\n",
      "Epoch 13/25, Loss: 0.0652, Train Acc: 99.60%, Test Acc: 66.56%\n",
      "Epoch 14/25, Loss: 0.0534, Train Acc: 99.76%, Test Acc: 66.53%\n",
      "Epoch 15/25, Loss: 0.0452, Train Acc: 98.78%, Test Acc: 65.22%\n",
      "Epoch 16/25, Loss: 0.0386, Train Acc: 99.82%, Test Acc: 67.57%\n",
      "Epoch 17/25, Loss: 0.0400, Train Acc: 99.65%, Test Acc: 65.90%\n",
      "Epoch 18/25, Loss: 0.0493, Train Acc: 99.93%, Test Acc: 67.33%\n",
      "Epoch 19/25, Loss: 0.0273, Train Acc: 99.07%, Test Acc: 66.62%\n",
      "Epoch 20/25, Loss: 0.0345, Train Acc: 99.86%, Test Acc: 66.20%\n",
      "Epoch 21/25, Loss: 0.0305, Train Acc: 99.82%, Test Acc: 65.29%\n",
      "Epoch 22/25, Loss: 0.0245, Train Acc: 99.59%, Test Acc: 66.35%\n",
      "Epoch 23/25, Loss: 0.0305, Train Acc: 99.77%, Test Acc: 65.88%\n",
      "Epoch 24/25, Loss: 0.0241, Train Acc: 99.78%, Test Acc: 65.59%\n",
      "Epoch 25/25, Loss: 0.0252, Train Acc: 99.18%, Test Acc: 65.82%\n",
      "Combined Model Test Accuracy: 79.68%\n"
     ]
    }
   ],
   "source": [
    "import torch\n",
    "import torch.nn.functional as F\n",
    "from sklearn.preprocessing import StandardScaler\n",
    "import numpy as np\n",
    "from torch.utils.data import DataLoader, TensorDataset\n",
    "\n",
    "from CNN_ensemble import train_model as train_cnn, load_cnn_data as load_cnn_data\n",
    "from LSTM import train_model as train_lstm, load_lstm_data as load_lstm_data\n",
    "\n",
    "device = torch.device(\"cuda\" if torch.cuda.is_available() else \"cpu\")\n",
    "print(f\"Using {device} device\")\n",
    "\n",
    "def evaluate_accuracy(outputs, labels):\n",
    "    _, preds = torch.max(outputs, 1)\n",
    "    accuracy = torch.sum(preds == labels).item() / len(preds)\n",
    "    return accuracy * 100\n",
    "\n",
    "def combine_models(cnn_model, lstm_model, test_loader_cnn, test_loader_lstm):\n",
    "    cnn_model.eval()\n",
    "    lstm_model.eval()\n",
    "    combined_accuracy = 0\n",
    "    with torch.no_grad():\n",
    "        for (images, labels), (numerical, _) in zip(test_loader_cnn, test_loader_lstm):\n",
    "            images, labels, numerical = images.to(device), labels.to(device), numerical.to(device)\n",
    "            cnn_outputs = cnn_model(images)\n",
    "            lstm_outputs = lstm_model(numerical)\n",
    "            combined_outputs = (F.softmax(cnn_outputs, dim=1) + F.softmax(lstm_outputs, dim=1)) / 2\n",
    "            combined_accuracy += evaluate_accuracy(combined_outputs, labels)\n",
    "    combined_accuracy /= len(test_loader_cnn)\n",
    "    return combined_accuracy\n",
    "\n",
    "if __name__ == \"__main__\":\n",
    "    # Train CNN and LSTM models\n",
    "    cnn_model = train_cnn()\n",
    "    lstm_model = train_lstm()\n",
    "\n",
    "\n",
    "    # Load test data\n",
    "    _, _, test_images, test_labels = load_cnn_data()\n",
    "    test_numerical, test_labels = load_lstm_data()[2:]  \n",
    "\n",
    "    # Prepare DataLoaders\n",
    "    test_loader_cnn = DataLoader(TensorDataset(test_images, test_labels), batch_size=64, shuffle=False)\n",
    "    test_loader_lstm = DataLoader(TensorDataset(test_numerical, test_labels), batch_size=64, shuffle=False)\n",
    "\n",
    "\n",
    "    # Combine models and evaluate on test set\n",
    "    combined_test_accuracy = combine_models(cnn_model, lstm_model, test_loader_cnn, test_loader_lstm)\n",
    "    print(f'Combined Model Test Accuracy: {combined_test_accuracy:.2f}%')\n"
   ]
  }
 ],
 "metadata": {
  "kernelspec": {
   "display_name": "base",
   "language": "python",
   "name": "python3"
  },
  "language_info": {
   "codemirror_mode": {
    "name": "ipython",
    "version": 3
   },
   "file_extension": ".py",
   "mimetype": "text/x-python",
   "name": "python",
   "nbconvert_exporter": "python",
   "pygments_lexer": "ipython3",
   "version": "3.11.7"
  }
 },
 "nbformat": 4,
 "nbformat_minor": 2
}
