{
 "cells": [
  {
   "cell_type": "code",
   "execution_count": 1,
   "metadata": {},
   "outputs": [
    {
     "name": "stdout",
     "output_type": "stream",
     "text": [
      "Using cuda device\n",
      "Using cuda device\n",
      "Using cuda device\n",
      "Epoch 1/25, Loss: 0.3711, Train Accuracy: 74.50%, Test Accuracy: 58.85%\n",
      "Epoch 2/25, Loss: 0.0889, Train Accuracy: 85.91%, Test Accuracy: 67.36%\n",
      "Epoch 3/25, Loss: 0.0667, Train Accuracy: 87.43%, Test Accuracy: 68.70%\n",
      "Epoch 4/25, Loss: 0.0366, Train Accuracy: 90.61%, Test Accuracy: 70.07%\n",
      "Epoch 5/25, Loss: 0.0388, Train Accuracy: 95.22%, Test Accuracy: 76.68%\n",
      "Epoch 6/25, Loss: 0.0313, Train Accuracy: 66.09%, Test Accuracy: 62.05%\n",
      "Epoch 7/25, Loss: 0.0262, Train Accuracy: 91.92%, Test Accuracy: 71.70%\n",
      "Epoch 8/25, Loss: 0.0196, Train Accuracy: 99.60%, Test Accuracy: 73.75%\n",
      "Epoch 9/25, Loss: 0.0240, Train Accuracy: 69.65%, Test Accuracy: 53.80%\n",
      "Epoch 10/25, Loss: 0.0179, Train Accuracy: 99.78%, Test Accuracy: 77.49%\n",
      "Epoch 11/25, Loss: 0.0012, Train Accuracy: 100.00%, Test Accuracy: 77.79%\n",
      "Epoch 12/25, Loss: 0.0005, Train Accuracy: 100.00%, Test Accuracy: 77.70%\n",
      "Epoch 13/25, Loss: 0.0003, Train Accuracy: 100.00%, Test Accuracy: 78.46%\n",
      "Epoch 14/25, Loss: 0.0002, Train Accuracy: 100.00%, Test Accuracy: 78.00%\n",
      "Epoch 15/25, Loss: 0.0002, Train Accuracy: 100.00%, Test Accuracy: 78.09%\n",
      "Epoch 16/25, Loss: 0.0001, Train Accuracy: 100.00%, Test Accuracy: 78.55%\n",
      "Epoch 17/25, Loss: 0.0001, Train Accuracy: 100.00%, Test Accuracy: 78.61%\n",
      "Epoch 18/25, Loss: 0.0001, Train Accuracy: 100.00%, Test Accuracy: 78.24%\n",
      "Epoch 19/25, Loss: 0.0011, Train Accuracy: 100.00%, Test Accuracy: 78.20%\n",
      "Epoch 20/25, Loss: 0.0004, Train Accuracy: 100.00%, Test Accuracy: 77.51%\n",
      "Epoch 21/25, Loss: 0.0001, Train Accuracy: 100.00%, Test Accuracy: 77.39%\n",
      "Epoch 22/25, Loss: 0.0001, Train Accuracy: 100.00%, Test Accuracy: 77.63%\n",
      "Epoch 23/25, Loss: 0.0001, Train Accuracy: 100.00%, Test Accuracy: 77.88%\n",
      "Epoch 24/25, Loss: 0.0000, Train Accuracy: 100.00%, Test Accuracy: 77.75%\n",
      "Epoch 25/25, Loss: 0.0000, Train Accuracy: 100.00%, Test Accuracy: 77.95%\n"
     ]
    },
    {
     "name": "stderr",
     "output_type": "stream",
     "text": [
      "c:\\Users\\chris\\anaconda3\\Lib\\site-packages\\torch\\optim\\lr_scheduler.py:28: UserWarning: The verbose parameter is deprecated. Please use get_last_lr() to access the learning rate.\n",
      "  warnings.warn(\"The verbose parameter is deprecated. Please use get_last_lr() \"\n"
     ]
    },
    {
     "name": "stdout",
     "output_type": "stream",
     "text": [
      "Epoch 1/25, Loss: 0.9807, Train Acc: 57.43%, Test Acc: 50.44%\n",
      "Epoch 2/25, Loss: 0.8377, Train Acc: 58.74%, Test Acc: 54.21%\n",
      "Epoch 3/25, Loss: 0.7985, Train Acc: 63.97%, Test Acc: 52.44%\n",
      "Epoch 4/25, Loss: 0.7508, Train Acc: 71.11%, Test Acc: 56.48%\n",
      "Epoch 5/25, Loss: 0.5878, Train Acc: 77.46%, Test Acc: 58.16%\n",
      "Epoch 6/25, Loss: 0.4427, Train Acc: 89.59%, Test Acc: 60.23%\n",
      "Epoch 7/25, Loss: 0.3279, Train Acc: 89.21%, Test Acc: 61.79%\n",
      "Epoch 8/25, Loss: 0.2107, Train Acc: 96.96%, Test Acc: 62.46%\n",
      "Epoch 9/25, Loss: 0.1588, Train Acc: 97.66%, Test Acc: 62.91%\n",
      "Epoch 10/25, Loss: 0.1056, Train Acc: 98.87%, Test Acc: 63.29%\n",
      "Epoch 11/25, Loss: 0.0762, Train Acc: 99.03%, Test Acc: 65.80%\n",
      "Epoch 12/25, Loss: 0.0633, Train Acc: 99.67%, Test Acc: 64.05%\n",
      "Epoch 13/25, Loss: 0.1063, Train Acc: 92.17%, Test Acc: 61.41%\n",
      "Epoch 14/25, Loss: 0.0951, Train Acc: 99.27%, Test Acc: 64.29%\n",
      "Epoch 15/25, Loss: 0.0603, Train Acc: 99.70%, Test Acc: 65.14%\n",
      "Epoch 16/25, Loss: 0.0545, Train Acc: 99.86%, Test Acc: 65.10%\n",
      "Epoch 17/25, Loss: 0.0437, Train Acc: 99.72%, Test Acc: 64.85%\n",
      "Epoch 18/25, Loss: 0.0448, Train Acc: 99.69%, Test Acc: 65.79%\n",
      "Epoch 19/25, Loss: 0.0334, Train Acc: 99.93%, Test Acc: 64.59%\n",
      "Epoch 20/25, Loss: 0.0235, Train Acc: 99.90%, Test Acc: 65.45%\n",
      "Epoch 21/25, Loss: 0.0327, Train Acc: 98.54%, Test Acc: 64.97%\n",
      "Epoch 22/25, Loss: 0.0180, Train Acc: 98.83%, Test Acc: 65.68%\n",
      "Epoch 23/25, Loss: 0.0258, Train Acc: 99.94%, Test Acc: 65.84%\n",
      "Epoch 24/25, Loss: 0.0175, Train Acc: 99.95%, Test Acc: 65.75%\n",
      "Epoch 25/25, Loss: 0.0246, Train Acc: 99.91%, Test Acc: 65.36%\n",
      "Combined Model Test Accuracy: 78.33%\n"
     ]
    }
   ],
   "source": [
    "import torch\n",
    "import torch.nn.functional as F\n",
    "from sklearn.preprocessing import StandardScaler\n",
    "import numpy as np\n",
    "from torch.utils.data import DataLoader, TensorDataset\n",
    "\n",
    "# Import your CNN and LSTM training modules\n",
    "# Ensure these imports match your project structure\n",
    "from CNN_ensemble import train_model as train_cnn, load_cnn_data as load_cnn_data\n",
    "from LSTM import train_model as train_lstm, load_lstm_data as load_lstm_data\n",
    "\n",
    "device = torch.device(\"cuda\" if torch.cuda.is_available() else \"cpu\")\n",
    "print(f\"Using {device} device\")\n",
    "\n",
    "def evaluate_accuracy(outputs, labels):\n",
    "    _, preds = torch.max(outputs, 1)\n",
    "    accuracy = torch.sum(preds == labels).item() / len(preds)\n",
    "    return accuracy * 100\n",
    "\n",
    "def combine_models(cnn_model, lstm_model, test_loader_cnn, test_loader_lstm):\n",
    "    cnn_model.eval()\n",
    "    lstm_model.eval()\n",
    "    combined_accuracy = 0\n",
    "    with torch.no_grad():\n",
    "        for (images, labels), (numerical, _) in zip(test_loader_cnn, test_loader_lstm):\n",
    "            images, labels, numerical = images.to(device), labels.to(device), numerical.to(device)\n",
    "            cnn_outputs = cnn_model(images)\n",
    "            lstm_outputs = lstm_model(numerical)\n",
    "            combined_outputs = (F.softmax(cnn_outputs, dim=1) + F.softmax(lstm_outputs, dim=1)) / 2\n",
    "            combined_accuracy += evaluate_accuracy(combined_outputs, labels)\n",
    "    combined_accuracy /= len(test_loader_cnn)\n",
    "    return combined_accuracy\n",
    "\n",
    "if __name__ == \"__main__\":\n",
    "    # Train CNN and LSTM models\n",
    "    cnn_model = train_cnn()\n",
    "    lstm_model = train_lstm()\n",
    "\n",
    "\n",
    "    # Load test data\n",
    "    _, _, test_images, test_labels = load_cnn_data()\n",
    "    test_numerical, test_labels = load_lstm_data()[2:]  \n",
    "\n",
    "    # Prepare DataLoaders\n",
    "    test_loader_cnn = DataLoader(TensorDataset(test_images, test_labels), batch_size=64, shuffle=False)\n",
    "    test_loader_lstm = DataLoader(TensorDataset(test_numerical, test_labels), batch_size=64, shuffle=False)\n",
    "\n",
    "\n",
    "    # Combine models and evaluate on test set\n",
    "    combined_test_accuracy = combine_models(cnn_model, lstm_model, test_loader_cnn, test_loader_lstm)\n",
    "    print(f'Combined Model Test Accuracy: {combined_test_accuracy:.2f}%')\n"
   ]
  }
 ],
 "metadata": {
  "kernelspec": {
   "display_name": "base",
   "language": "python",
   "name": "python3"
  },
  "language_info": {
   "codemirror_mode": {
    "name": "ipython",
    "version": 3
   },
   "file_extension": ".py",
   "mimetype": "text/x-python",
   "name": "python",
   "nbconvert_exporter": "python",
   "pygments_lexer": "ipython3",
   "version": "3.11.7"
  }
 },
 "nbformat": 4,
 "nbformat_minor": 2
}
