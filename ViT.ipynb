{
 "cells": [
  {
   "cell_type": "code",
   "execution_count": 5,
   "metadata": {},
   "outputs": [
    {
     "ename": "ModuleNotFoundError",
     "evalue": "No module named 'cnn_for_vit'",
     "output_type": "error",
     "traceback": [
      "\u001b[1;31m---------------------------------------------------------------------------\u001b[0m",
      "\u001b[1;31mModuleNotFoundError\u001b[0m                       Traceback (most recent call last)",
      "Cell \u001b[1;32mIn[5], line 5\u001b[0m\n\u001b[0;32m      3\u001b[0m \u001b[38;5;28;01mfrom\u001b[39;00m \u001b[38;5;21;01mtensorflow\u001b[39;00m\u001b[38;5;21;01m.\u001b[39;00m\u001b[38;5;21;01mkeras\u001b[39;00m \u001b[38;5;28;01mimport\u001b[39;00m layers, models\n\u001b[0;32m      4\u001b[0m \u001b[38;5;28;01mimport\u001b[39;00m \u001b[38;5;21;01mtensorflow_addons\u001b[39;00m \u001b[38;5;28;01mas\u001b[39;00m \u001b[38;5;21;01mtfa\u001b[39;00m\n\u001b[1;32m----> 5\u001b[0m \u001b[38;5;28;01mfrom\u001b[39;00m \u001b[38;5;21;01mcnn_for_vit\u001b[39;00m \u001b[38;5;28;01mimport\u001b[39;00m build_cnn_for_vit  \u001b[38;5;66;03m# Importing the CNN model function\u001b[39;00m\n\u001b[0;32m      7\u001b[0m \u001b[38;5;28;01mdef\u001b[39;00m \u001b[38;5;21mvit_classifier\u001b[39m(feature_shape, num_classes):\n\u001b[0;32m      8\u001b[0m     inputs \u001b[38;5;241m=\u001b[39m layers\u001b[38;5;241m.\u001b[39mInput(shape\u001b[38;5;241m=\u001b[39mfeature_shape)\n",
      "\u001b[1;31mModuleNotFoundError\u001b[0m: No module named 'cnn_for_vit'"
     ]
    }
   ],
   "source": [
    "import numpy as np\n",
    "import tensorflow as tf\n",
    "from tensorflow.keras import layers, models\n",
    "import tensorflow_addons as tfa\n",
    "from CNN import build_cnn_for_vit  # Importing the CNN model function\n",
    "\n",
    "def vit_classifier(feature_shape, num_classes):\n",
    "    inputs = layers.Input(shape=feature_shape)\n",
    "    transformer_encoder = tfa.layers.MultiHeadAttention(head_size=128, num_heads=4)\n",
    "    x = transformer_encoder(inputs, inputs)\n",
    "    x = layers.GlobalAveragePooling1D()(x)\n",
    "    x = layers.Dense(512, activation='relu')(x)\n",
    "    x = layers.Dropout(0.5)(x)\n",
    "    outputs = layers.Dense(num_classes, activation='softmax')(x)\n",
    "    model = models.Model(inputs=inputs, outputs=outputs)\n",
    "    model.compile(optimizer='adam', loss='categorical_crossentropy', metrics=['accuracy'])\n",
    "    return model\n",
    "\n",
    "def prepare_for_vit(features, patch_size=(3, 3), num_patches=81):\n",
    "    \"\"\"\n",
    "    Adjusts the CNN's output to be suitable for the ViT model.\n",
    "    Assumes `features` is the output of the CNN model.\n",
    "    \"\"\"\n",
    "    num_features = features.shape[-1]\n",
    "    patch_features = patch_size[0] * patch_size[1] * num_features\n",
    "    return np.reshape(features, (-1, num_patches, patch_features))"
   ]
  }
 ],
 "metadata": {
  "kernelspec": {
   "display_name": "tensorflowgpu",
   "language": "python",
   "name": "python3"
  },
  "language_info": {
   "codemirror_mode": {
    "name": "ipython",
    "version": 3
   },
   "file_extension": ".py",
   "mimetype": "text/x-python",
   "name": "python",
   "nbconvert_exporter": "python",
   "pygments_lexer": "ipython3",
   "version": "3.9.19"
  }
 },
 "nbformat": 4,
 "nbformat_minor": 2
}
